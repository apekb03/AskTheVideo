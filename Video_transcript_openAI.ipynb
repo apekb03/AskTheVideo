{
  "cells": [
    {
      "cell_type": "code",
      "execution_count": null,
      "metadata": {
        "colab": {
          "base_uri": "https://localhost:8080/"
        },
        "collapsed": true,
        "id": "NvyHsEhFiSQO",
        "outputId": "1c038055-002f-422f-ae19-6a3923cf5b50"
      },
      "outputs": [],
      "source": [
        "pip install langchain"
      ]
    },
    {
      "cell_type": "markdown",
      "metadata": {
        "id": "0Nm-vRNujxpL"
      },
      "source": [
        "Download a youtube video and convert it into MP3 -- yt-dlp"
      ]
    },
    {
      "cell_type": "code",
      "execution_count": null,
      "metadata": {
        "colab": {
          "base_uri": "https://localhost:8080/"
        },
        "collapsed": true,
        "id": "BN1cKlAQjnLq",
        "outputId": "3264e95a-3d8f-41b0-bb66-c3c7fbbcf8d4"
      },
      "outputs": [
        {
          "name": "stdout",
          "output_type": "stream",
          "text": [
            "Requirement already satisfied: yt_dlp in /usr/local/lib/python3.11/dist-packages (2025.3.21)\n"
          ]
        }
      ],
      "source": [
        "pip install yt_dlp"
      ]
    },
    {
      "cell_type": "code",
      "execution_count": null,
      "metadata": {
        "colab": {
          "base_uri": "https://localhost:8080/"
        },
        "collapsed": true,
        "id": "PkAgBAKckC7-",
        "outputId": "37d288d1-2ff4-48a0-e197-dfbec7bbcdad"
      },
      "outputs": [],
      "source": [
        "pip install tiktoken"
      ]
    },
    {
      "cell_type": "code",
      "execution_count": null,
      "metadata": {
        "colab": {
          "base_uri": "https://localhost:8080/"
        },
        "collapsed": true,
        "id": "rISg33KLkGAR",
        "outputId": "4e22ae10-f0bc-496d-d22c-ece5e4794952"
      },
      "outputs": [],
      "source": [
        "pip install docarray"
      ]
    },
    {
      "cell_type": "code",
      "execution_count": null,
      "metadata": {
        "id": "ADoL9rmWkODo"
      },
      "outputs": [],
      "source": [
        "import os\n",
        "import glob #search files\n",
        "import openai #interact with api\n",
        "import yt_dlp as youtube_dl #download youtube videos and convert into mp3\n",
        "from yt_dlp import DownloadError  #if there is an error --\n",
        "import docarray\n"
      ]
    },
    {
      "cell_type": "code",
      "execution_count": null,
      "metadata": {
        "colab": {
          "base_uri": "https://localhost:8080/"
        },
        "id": "Q2O3HRkAmTWT",
        "outputId": "c352daec-e32e-45f4-bd99-0127ee571c2e"
      },
      "outputs": [
        {
          "name": "stdout",
          "output_type": "stream",
          "text": [
            "Enter your OpenAI API key: ··········\n"
          ]
        }
      ],
      "source": [
        "import os\n",
        "from getpass import getpass\n",
        "\n",
        "# Prompt for the API key (hidden input)\n",
        "os.environ[\"OPENAI_API_KEY\"] = getpass(\"Enter your OpenAI API key: \")"
      ]
    },
    {
      "cell_type": "code",
      "execution_count": null,
      "metadata": {
        "id": "wY5ldxeskwDs"
      },
      "outputs": [],
      "source": [
        "youtube_url='https://www.youtube.com/watch?v=_FSXJmESFmQ&t=167s'\n",
        "#directory to store the downloaded video\n",
        "output_dir='files/audio/'\n",
        "os.makedirs(output_dir, exist_ok=True)\n"
      ]
    },
    {
      "cell_type": "code",
      "execution_count": null,
      "metadata": {
        "colab": {
          "base_uri": "https://localhost:8080/"
        },
        "collapsed": true,
        "id": "KeI_GPBGnTgM",
        "outputId": "edc1f3ad-8dc9-4794-fa2a-ef342dc05b10"
      },
      "outputs": [
        {
          "name": "stderr",
          "output_type": "stream",
          "text": [
            "[debug] Encodings: locale UTF-8, fs utf-8, pref UTF-8, out UTF-8 (No ANSI), error UTF-8 (No ANSI), screen UTF-8 (No ANSI)\n",
            "[debug] yt-dlp version stable@2025.03.21 from yt-dlp/yt-dlp [f36e4b6e6] (pip) API\n",
            "[debug] params: {'format': 'bestaudio/best', 'outtmpl': 'files/audio/%(title)s.%(ext)s', 'postprocessors': [{'key': 'FFmpegExtractAudio', 'preferredcodec': 'mp3', 'preferredquality': '192'}], 'verbose': True, 'compat_opts': set(), 'http_headers': {'User-Agent': 'Mozilla/5.0 (Windows NT 10.0; Win64; x64) AppleWebKit/537.36 (KHTML, like Gecko) Chrome/90.0.4430.72 Safari/537.36', 'Accept': 'text/html,application/xhtml+xml,application/xml;q=0.9,*/*;q=0.8', 'Accept-Language': 'en-us,en;q=0.5', 'Sec-Fetch-Mode': 'navigate'}}\n",
            "[debug] Python 3.11.11 (CPython x86_64 64bit) - Linux-6.1.85+-x86_64-with-glibc2.35 (OpenSSL 3.0.2 15 Mar 2022, glibc 2.35)\n",
            "[debug] exe versions: ffmpeg 4.4.2 (setts), ffprobe 4.4.2\n",
            "[debug] Optional libraries: certifi-2025.01.31, requests-2.32.3, secretstorage-3.3.1, sqlite3-3.37.2, urllib3-2.3.0, websockets-14.2\n",
            "[debug] Proxy map: {'colab_language_server': '/usr/colab/bin/language_service'}\n",
            "[debug] Request Handlers: urllib, requests, websockets\n",
            "[debug] Plugin directories: none\n"
          ]
        },
        {
          "name": "stdout",
          "output_type": "stream",
          "text": [
            "Downloading video from https://www.youtube.com/watch?v=_FSXJmESFmQ&t=167s\n"
          ]
        },
        {
          "name": "stderr",
          "output_type": "stream",
          "text": [
            "[debug] Loaded 1847 extractors\n"
          ]
        },
        {
          "name": "stdout",
          "output_type": "stream",
          "text": [
            "[youtube] Extracting URL: https://www.youtube.com/watch?v=_FSXJmESFmQ&t=167s\n",
            "[youtube] _FSXJmESFmQ: Downloading webpage\n",
            "[youtube] _FSXJmESFmQ: Downloading tv client config\n",
            "[youtube] _FSXJmESFmQ: Downloading player 69f581a5\n",
            "[youtube] _FSXJmESFmQ: Downloading tv player API JSON\n",
            "[youtube] _FSXJmESFmQ: Downloading ios player API JSON\n"
          ]
        },
        {
          "name": "stderr",
          "output_type": "stream",
          "text": [
            "[debug] Loading youtube-nsig.69f581a5 from cache\n",
            "[debug] [youtube] Decrypted nsig xbZ8DlLe03F6qn6Gs => zhE9t7Wcxge4KA\n",
            "[debug] Loading youtube-nsig.69f581a5 from cache\n",
            "[debug] [youtube] Decrypted nsig HmO0p_vaWLPhFuB1l => f5rEkvHsWrunLQ\n",
            "[debug] [youtube] _FSXJmESFmQ: ios client https formats require a GVS PO Token which was not provided. They will be skipped as they may yield HTTP Error 403. You can manually pass a GVS PO Token for this client with --extractor-args \"youtube:po_token=ios.gvs+XXX\". For more information, refer to  https://github.com/yt-dlp/yt-dlp/wiki/PO-Token-Guide . To enable these broken formats anyway, pass --extractor-args \"youtube:formats=missing_pot\"\n"
          ]
        },
        {
          "name": "stdout",
          "output_type": "stream",
          "text": [
            "[youtube] _FSXJmESFmQ: Downloading m3u8 information\n"
          ]
        },
        {
          "name": "stderr",
          "output_type": "stream",
          "text": [
            "[debug] Sort order given by extractor: quality, res, fps, hdr:12, source, vcodec, channels, acodec, lang, proto\n",
            "[debug] Formats sorted by: hasvid, ie_pref, quality, res, fps, hdr:12(7), source, vcodec, channels, acodec, lang, proto, size, br, asr, vext, aext, hasaud, id\n"
          ]
        },
        {
          "name": "stdout",
          "output_type": "stream",
          "text": [
            "[info] _FSXJmESFmQ: Downloading 1 format(s): 251\n"
          ]
        },
        {
          "name": "stderr",
          "output_type": "stream",
          "text": [
            "[debug] Invoking http downloader on \"https://rr2---sn-5uaeznez.googlevideo.com/videoplayback?expire=1742701750&ei=VjDfZ8jUDZO1kucP5YqeoA0&ip=34.74.62.159&id=o-ANOca79lYYvkHKdQiKMglXt7gcTUOqeQz-2raAQ5Tg1V&itag=251&source=youtube&requiressl=yes&xpc=EgVo2aDSNQ%3D%3D&met=1742680150%2C&mh=t4&mm=31%2C26&mn=sn-5uaeznez%2Csn-a5meknsy&ms=au%2Conr&mv=m&mvi=2&pl=20&rms=au%2Cau&pcm2=yes&bui=AccgBcNbbz9SWggZemQpyNylZFrTaNnUH2hIbVg2wFYbDtWvBBytWCgoyq0nX6n9kORPdG4xgMuq0xlV&vprv=1&svpuc=1&mime=audio%2Fwebm&ns=mUsQg2hHz42H-ExsxRE751oQ&rqh=1&gir=yes&clen=9620836&dur=731.301&lmt=1733514014466453&mt=1742679674&fvip=3&keepalive=yes&lmw=1&c=TVHTML5&sefc=1&txp=4532434&n=f5rEkvHsWrunLQ&sparams=expire%2Cei%2Cip%2Cid%2Citag%2Csource%2Crequiressl%2Cxpc%2Cpcm2%2Cbui%2Cvprv%2Csvpuc%2Cmime%2Cns%2Crqh%2Cgir%2Cclen%2Cdur%2Clmt&sig=AJfQdSswRQIgArJQ7ZHZd-_dUGFrphw7JveJUmfx_ihJDL5b9y6mLYoCIQCDVvMCIJst_TAlVQurkYDmUKmT1ktRK2B3BpdY8eGUNg%3D%3D&lsparams=met%2Cmh%2Cmm%2Cmn%2Cms%2Cmv%2Cmvi%2Cpl%2Crms&lsig=AFVRHeAwRAIgWmzm3ojRT95-9kF78vxmnP7lSo952i6WkL3cP_EG7d8CIEuC9w14aSSjfsEV4RUS-wXRzI8BgyJVnp8mWFVJ3QnU\"\n"
          ]
        },
        {
          "name": "stdout",
          "output_type": "stream",
          "text": [
            "[download] Destination: files/audio/Long Division With Polynomials - The Easy Way!.webm\n",
            "[download] 100% of    9.18MiB in 00:00:00 at 21.97MiB/s  \n"
          ]
        },
        {
          "name": "stderr",
          "output_type": "stream",
          "text": [
            "[debug] ffmpeg command line: ffprobe -show_streams 'file:files/audio/Long Division With Polynomials - The Easy Way!.webm'\n"
          ]
        },
        {
          "name": "stdout",
          "output_type": "stream",
          "text": [
            "[ExtractAudio] Destination: files/audio/Long Division With Polynomials - The Easy Way!.mp3\n"
          ]
        },
        {
          "name": "stderr",
          "output_type": "stream",
          "text": [
            "[debug] ffmpeg command line: ffmpeg -y -loglevel repeat+info -i 'file:files/audio/Long Division With Polynomials - The Easy Way!.webm' -vn -acodec libmp3lame -b:a 192.0k -movflags +faststart 'file:files/audio/Long Division With Polynomials - The Easy Way!.mp3'\n"
          ]
        },
        {
          "name": "stdout",
          "output_type": "stream",
          "text": [
            "Deleting original file files/audio/Long Division With Polynomials - The Easy Way!.webm (pass -k to keep)\n"
          ]
        }
      ],
      "source": [
        "ydl_config = {\n",
        "    'format': 'bestaudio/best',\n",
        "    'outtmpl': output_dir + '%(title)s.%(ext)s',\n",
        "    'postprocessors': [{\n",
        "        'key': 'FFmpegExtractAudio',\n",
        "        'preferredcodec': 'mp3',\n",
        "        'preferredquality': '192',\n",
        "    }],\n",
        "    'verbose':True\n",
        "}\n",
        "\n",
        "print(f'Downloading video from {youtube_url}')\n",
        "\n",
        "try:\n",
        "  with youtube_dl.YoutubeDL(ydl_config) as ydl:\n",
        "    ydl.download([youtube_url])\n",
        "except DownloadError:\n",
        "  with youtube_dl.YoutubeDL(ydl_config) as ydl:\n",
        "    ydl.download([youtube_url])\n"
      ]
    },
    {
      "cell_type": "code",
      "execution_count": null,
      "metadata": {
        "colab": {
          "base_uri": "https://localhost:8080/"
        },
        "id": "aN4q-gAdptIJ",
        "outputId": "0a357a51-09ce-482c-fe5e-b55412a271e9"
      },
      "outputs": [
        {
          "name": "stdout",
          "output_type": "stream",
          "text": [
            "files/audio/Long Division With Polynomials - The Easy Way!.mp3\n"
          ]
        }
      ],
      "source": [
        "#find audio files in output dir\n",
        "audio_files=glob.glob(os.path.join(output_dir,\"*.mp3\"))\n",
        "\n",
        "#select the first file in the audio file list\n",
        "audio_filename=audio_files[0]\n",
        "\n",
        "print(audio_filename)"
      ]
    },
    {
      "cell_type": "markdown",
      "metadata": {
        "id": "flLtutI8qTLu"
      },
      "source": [
        "Send it to whisper for transcribition and answer questions later"
      ]
    },
    {
      "cell_type": "code",
      "execution_count": null,
      "metadata": {
        "colab": {
          "base_uri": "https://localhost:8080/"
        },
        "collapsed": true,
        "id": "d37ntkqwqReK",
        "outputId": "5772fbb3-5e17-41d7-f9a7-52c9edfdf6d9"
      },
      "outputs": [],
      "source": [
        "pip install -U openai-whisper"
      ]
    },
    {
      "cell_type": "code",
      "execution_count": null,
      "metadata": {
        "colab": {
          "base_uri": "https://localhost:8080/"
        },
        "collapsed": true,
        "id": "KdhB0kOZuebC",
        "outputId": "69f1c59b-6e11-45a5-8624-b48d63f9b58e"
      },
      "outputs": [],
      "source": [
        "!pip install openai==0.28\n",
        "import openai"
      ]
    },
    {
      "cell_type": "code",
      "execution_count": null,
      "metadata": {
        "id": "Kv7kWhhWrnFx"
      },
      "outputs": [],
      "source": [
        "from openai import OpenAI\n",
        "client = OpenAI()\n",
        "\n",
        "audio_file = open(\"files/audio/Long Division With Polynomials - The Easy Way!.mp3\", \"rb\")\n",
        "transcript = client.audio.transcriptions.create(\n",
        "  model=\"gpt-4o-transcribe\",\n",
        "  file=audio_file\n",
        ")\n"
      ]
    },
    {
      "cell_type": "code",
      "execution_count": null,
      "metadata": {
        "colab": {
          "base_uri": "https://localhost:8080/"
        },
        "id": "IPjLLARDudI7",
        "outputId": "27f988a9-d0d4-4373-e094-d7f5cdaf4b1a"
      },
      "outputs": [
        {
          "name": "stdout",
          "output_type": "stream",
          "text": [
            "In this video, we're going to focus on dividing polynomials using long division. So let's start with our first example. Let's divide x squared plus 5x plus 6 by x plus 2. So we're going to put the x plus 2 on the outside and the x squared plus 5x plus 6 on the inside. The denominator should go on the outside. So the first thing we need to do is divide. x squared divided by x is equal to what? x squared divided by x is basically x. What you need to do is subtract the x points. 2 minus 1 is equal to 1. Now, after you divide, the next step is to multiply. Let's put a negative sign and parentheses. Everything that's going to be written here, we need to distribute by a negative sign or basically just change the sign. If we multiply x by x, that is equal to x squared. And if we multiply x by positive 2, that's equal to positive 2x. At this point, subtract. x squared minus x squared, those two will cancel and it's equal to 0. Next, 5x minus 2x is equal to positive 3x. 6 minus nothing is basically equal to 6. So you could bring down the 6. Now the next thing that we need to do is divide. We're going to follow the same three steps as we did before. We're going to divide, multiply, and subtract. 3x divided by x, that's equal to positive 3. And then now we're going to multiply. 3 times x is 3x. And then 3 times 2, that's equal to positive 6. So now we could subtract. 3x minus 3x is 0, 6 minus 6 is 0. So the remainder is 0. Therefore, the solution is what we see here. x squared plus 5x plus 6 divided by x plus 2, that's equal to x plus 3. So that's the answer. Now let's work on another example. Try this one. Divide 2x cubed plus 8x squared minus 6x plus 10. Go ahead and divide it by x minus 2. So feel free to pause the video and work on this example. So first, let's write it out. Now the first thing we're going to do is we're going to divide. Let's divide 2x cubed by x. So that is equal to 2x squared. Next, let's multiply. 2x squared times x, that's equal to 2x cubed. The first one is always going to be the same. These two should always match. And then 2x squared times negative 2, that's equal to negative 4x squared. So now let's subtract. 2x cubed minus 2x cubed, those two will always cancel, and so that's 0. 8x squared minus negative 4x squared is basically the same as 8x squared plus 4x squared, and that's equal to positive 12x squared. Now everything else, we're just going to bring it down so we can work on it in the next step. We really don't have to bring down everything. All we need really is just the next term. So we don't have to write the other two terms. We can just focus on these two for now. But if you want to, you can write down the rest. Now let's divide 12x squared by x. So that's equal to positive 12x. Now let's multiply. 12x times x, that's 12x squared. And then if we multiply 12x by negative 2, that's equal to negative 24x. So now let's subtract. 12x squared minus 12x squared, which is equal to 0. And negative 6x minus negative 24x, which is the same as negative 6x plus 24x, that's positive 18x. And now let's bring down the 10. So we have 18x plus 10. So now let's divide. 18x divided by x is positive 18. And then multiply. 18 times x is 18x. And 18 times negative 2, that's negative 36. So now let's subtract. 18 minus 18 is 0. And 10 minus negative 36, we have two negative signs, that's the same as 10 plus 36. 10 plus 36 is 46. Now we can't divide 46 by x. So the remainder is 46. So how do we write the answer whenever we have a remainder? So it's going to be what you see here, plus the remainder, which is 46, divided by what you tried to divide it by, which is x minus 2. So therefore the final answer is 2x squared plus 12x plus 18 plus 46 divided by x minus 2. So all of that is equal to 2x cubed plus 8x squared minus 6x plus 10 divided by x minus 2. So this is the answer. Now let's move on to our next problem. Go ahead and divide 6x to the 4th minus 9x squared plus 18 divided by x minus 3. So take a minute, pause the video, and work on this problem. And once you have the solution, unpause it to see if you have the right answer. And be careful with this one. So let's put the x minus 3 on the outside, and let's put the numerator on the inside. Now we need to put it in standard order. It's 6x to the 4th. Now we can't forget about the 0x cubed. So plus 0x cubed, and then minus 9x squared, and don't forget about the 0x, and finally plus 18. So we're going to follow the same three steps. Divide, multiply, subtract. So let's divide 6x to the 4th by x. So that's equal to 6x cubed. Simply subtract the 4 by 1, and you'll get the exponent 3. Now let's multiply. 6x cubed times x, that's 6x to the 4th. And then we have 6x cubed times negative 3, which is negative 18x cubed. So at this point, we need to subtract. 6x to the 4th minus itself will be 0. Now 0x cubed minus negative 18x cubed, that's going to be just positive 18x cubed. And everything else, we could bring it down so we could work on it in the next step. We really don't have to bring down everything. All we need really is just the next term. So we don't have to write the other two terms. We can just focus on these two for now. But if you want to, you can write down the rest. Now let's divide 18x cubed by x. So that's going to be 18x squared. And now let's multiply. 18x squared times x, that's 18x cubed. And then if we multiply 18x squared by negative 3, that's negative 54x squared. So this is going to be 0. Negative 9 minus negative 54, that's negative 9 plus 54. And 54 minus 9 is basically 65. I take that back. It's not 65. That's something else. 54 minus 9, that's like 45. And you could check that with the calculator. So if you type in negative 9 plus 54, that's positive 45. Now let's bring down the 0x squared. Or I mean the 0x. You know what I mean. So now let's divide 45x squared by x. So that's going to give us just 45x. And if we multiply 45x by x minus 3, we're going to get 45x squared. And 45x times negative 3, that's negative 145x. So this is going to be 0. And 0 minus negative 145x is positive 145x. Now let's bring down the 18. So let's divide. 145x divided by x, that's positive 145. And 145 times x, that's going to be the same thing. And then 145 times negative 3, that's negative 435. So 18 minus negative 435, or 18 plus 435, that's 453. So that's the remainder. So this entire expression is equal to 6x cubed plus 18x squared plus 45x plus 145 plus 453 divided by x minus 3. So this is the final answer to the problem. So now you know how to divide polynomials using long division.\n"
          ]
        }
      ],
      "source": [
        "print(transcript.text)\n",
        "output_file='files/transcripts/transcript.txt'\n"
      ]
    },
    {
      "cell_type": "code",
      "execution_count": null,
      "metadata": {
        "colab": {
          "base_uri": "https://localhost:8080/"
        },
        "id": "XIOK40yexfpY",
        "outputId": "5d467987-b341-4f53-f63d-d5519f6169ac"
      },
      "outputs": [
        {
          "name": "stdout",
          "output_type": "stream",
          "text": [
            "Transcription(text=\"In this video, we're going to focus on dividing polynomials using long division. So let's start with our first example. Let's divide x squared plus 5x plus 6 by x plus 2. So we're going to put the x plus 2 on the outside and the x squared plus 5x plus 6 on the inside. The denominator should go on the outside. So the first thing we need to do is divide. x squared divided by x is equal to what? x squared divided by x is basically x. What you need to do is subtract the x points. 2 minus 1 is equal to 1. Now, after you divide, the next step is to multiply. Let's put a negative sign and parentheses. Everything that's going to be written here, we need to distribute by a negative sign or basically just change the sign. If we multiply x by x, that is equal to x squared. And if we multiply x by positive 2, that's equal to positive 2x. At this point, subtract. x squared minus x squared, those two will cancel and it's equal to 0. Next, 5x minus 2x is equal to positive 3x. 6 minus nothing is basically equal to 6. So you could bring down the 6. Now the next thing that we need to do is divide. We're going to follow the same three steps as we did before. We're going to divide, multiply, and subtract. 3x divided by x, that's equal to positive 3. And then now we're going to multiply. 3 times x is 3x. And then 3 times 2, that's equal to positive 6. So now we could subtract. 3x minus 3x is 0, 6 minus 6 is 0. So the remainder is 0. Therefore, the solution is what we see here. x squared plus 5x plus 6 divided by x plus 2, that's equal to x plus 3. So that's the answer. Now let's work on another example. Try this one. Divide 2x cubed plus 8x squared minus 6x plus 10. Go ahead and divide it by x minus 2. So feel free to pause the video and work on this example. So first, let's write it out. Now the first thing we're going to do is we're going to divide. Let's divide 2x cubed by x. So that is equal to 2x squared. Next, let's multiply. 2x squared times x, that's equal to 2x cubed. The first one is always going to be the same. These two should always match. And then 2x squared times negative 2, that's equal to negative 4x squared. So now let's subtract. 2x cubed minus 2x cubed, those two will always cancel, and so that's 0. 8x squared minus negative 4x squared is basically the same as 8x squared plus 4x squared, and that's equal to positive 12x squared. Now everything else, we're just going to bring it down so we can work on it in the next step. We really don't have to bring down everything. All we need really is just the next term. So we don't have to write the other two terms. We can just focus on these two for now. But if you want to, you can write down the rest. Now let's divide 12x squared by x. So that's equal to positive 12x. Now let's multiply. 12x times x, that's 12x squared. And then if we multiply 12x by negative 2, that's equal to negative 24x. So now let's subtract. 12x squared minus 12x squared, which is equal to 0. And negative 6x minus negative 24x, which is the same as negative 6x plus 24x, that's positive 18x. And now let's bring down the 10. So we have 18x plus 10. So now let's divide. 18x divided by x is positive 18. And then multiply. 18 times x is 18x. And 18 times negative 2, that's negative 36. So now let's subtract. 18 minus 18 is 0. And 10 minus negative 36, we have two negative signs, that's the same as 10 plus 36. 10 plus 36 is 46. Now we can't divide 46 by x. So the remainder is 46. So how do we write the answer whenever we have a remainder? So it's going to be what you see here, plus the remainder, which is 46, divided by what you tried to divide it by, which is x minus 2. So therefore the final answer is 2x squared plus 12x plus 18 plus 46 divided by x minus 2. So all of that is equal to 2x cubed plus 8x squared minus 6x plus 10 divided by x minus 2. So this is the answer. Now let's move on to our next problem. Go ahead and divide 6x to the 4th minus 9x squared plus 18 divided by x minus 3. So take a minute, pause the video, and work on this problem. And once you have the solution, unpause it to see if you have the right answer. And be careful with this one. So let's put the x minus 3 on the outside, and let's put the numerator on the inside. Now we need to put it in standard order. It's 6x to the 4th. Now we can't forget about the 0x cubed. So plus 0x cubed, and then minus 9x squared, and don't forget about the 0x, and finally plus 18. So we're going to follow the same three steps. Divide, multiply, subtract. So let's divide 6x to the 4th by x. So that's equal to 6x cubed. Simply subtract the 4 by 1, and you'll get the exponent 3. Now let's multiply. 6x cubed times x, that's 6x to the 4th. And then we have 6x cubed times negative 3, which is negative 18x cubed. So at this point, we need to subtract. 6x to the 4th minus itself will be 0. Now 0x cubed minus negative 18x cubed, that's going to be just positive 18x cubed. And everything else, we could bring it down so we could work on it in the next step. We really don't have to bring down everything. All we need really is just the next term. So we don't have to write the other two terms. We can just focus on these two for now. But if you want to, you can write down the rest. Now let's divide 18x cubed by x. So that's going to be 18x squared. And now let's multiply. 18x squared times x, that's 18x cubed. And then if we multiply 18x squared by negative 3, that's negative 54x squared. So this is going to be 0. Negative 9 minus negative 54, that's negative 9 plus 54. And 54 minus 9 is basically 65. I take that back. It's not 65. That's something else. 54 minus 9, that's like 45. And you could check that with the calculator. So if you type in negative 9 plus 54, that's positive 45. Now let's bring down the 0x squared. Or I mean the 0x. You know what I mean. So now let's divide 45x squared by x. So that's going to give us just 45x. And if we multiply 45x by x minus 3, we're going to get 45x squared. And 45x times negative 3, that's negative 145x. So this is going to be 0. And 0 minus negative 145x is positive 145x. Now let's bring down the 18. So let's divide. 145x divided by x, that's positive 145. And 145 times x, that's going to be the same thing. And then 145 times negative 3, that's negative 435. So 18 minus negative 435, or 18 plus 435, that's 453. So that's the remainder. So this entire expression is equal to 6x cubed plus 18x squared plus 45x plus 145 plus 453 divided by x minus 3. So this is the final answer to the problem. So now you know how to divide polynomials using long division.\")\n"
          ]
        }
      ],
      "source": [
        "if output_file is not None:\n",
        "  os.makedirs(os.path.dirname(output_file), exist_ok=True)\n",
        "  with open(output_file,'w') as file:\n",
        "    file.write(transcript.text)\n",
        "print(transcript)"
      ]
    },
    {
      "cell_type": "code",
      "execution_count": null,
      "metadata": {
        "colab": {
          "base_uri": "https://localhost:8080/"
        },
        "collapsed": true,
        "id": "M_le37dY1x5R",
        "outputId": "09bc03b6-e9d6-4721-deb8-888cfde639fc"
      },
      "outputs": [],
      "source": [
        "pip install -U langchain-community\n"
      ]
    },
    {
      "cell_type": "code",
      "execution_count": null,
      "metadata": {
        "id": "pBNxhY4Q0ndK"
      },
      "outputs": [],
      "source": [
        "\n",
        "from langchain.document_loaders import TextLoader\n",
        "\n",
        "\n",
        "loader=TextLoader('./files/transcripts/transcript.txt')\n",
        "documents=loader.load()"
      ]
    },
    {
      "cell_type": "code",
      "execution_count": null,
      "metadata": {
        "colab": {
          "base_uri": "https://localhost:8080/"
        },
        "collapsed": true,
        "id": "a-X_4Fke18sa",
        "outputId": "5f5393aa-4782-4e1f-f0f8-ec56fa20ad74"
      },
      "outputs": [
        {
          "data": {
            "text/plain": [
              "Document(metadata={'source': './files/transcripts/transcript.txt'}, page_content=\"In this video, we're going to focus on dividing polynomials using long division. So let's start with our first example. Let's divide x squared plus 5x plus 6 by x plus 2. So we're going to put the x plus 2 on the outside and the x squared plus 5x plus 6 on the inside. The denominator should go on the outside. So the first thing we need to do is divide. x squared divided by x is equal to what? x squared divided by x is basically x. What you need to do is subtract the x points. 2 minus 1 is equal to 1. Now, after you divide, the next step is to multiply. Let's put a negative sign and parentheses. Everything that's going to be written here, we need to distribute by a negative sign or basically just change the sign. If we multiply x by x, that is equal to x squared. And if we multiply x by positive 2, that's equal to positive 2x. At this point, subtract. x squared minus x squared, those two will cancel and it's equal to 0. Next, 5x minus 2x is equal to positive 3x. 6 minus nothing is basically equal to 6. So you could bring down the 6. Now the next thing that we need to do is divide. We're going to follow the same three steps as we did before. We're going to divide, multiply, and subtract. 3x divided by x, that's equal to positive 3. And then now we're going to multiply. 3 times x is 3x. And then 3 times 2, that's equal to positive 6. So now we could subtract. 3x minus 3x is 0, 6 minus 6 is 0. So the remainder is 0. Therefore, the solution is what we see here. x squared plus 5x plus 6 divided by x plus 2, that's equal to x plus 3. So that's the answer. Now let's work on another example. Try this one. Divide 2x cubed plus 8x squared minus 6x plus 10. Go ahead and divide it by x minus 2. So feel free to pause the video and work on this example. So first, let's write it out. Now the first thing we're going to do is we're going to divide. Let's divide 2x cubed by x. So that is equal to 2x squared. Next, let's multiply. 2x squared times x, that's equal to 2x cubed. The first one is always going to be the same. These two should always match. And then 2x squared times negative 2, that's equal to negative 4x squared. So now let's subtract. 2x cubed minus 2x cubed, those two will always cancel, and so that's 0. 8x squared minus negative 4x squared is basically the same as 8x squared plus 4x squared, and that's equal to positive 12x squared. Now everything else, we're just going to bring it down so we can work on it in the next step. We really don't have to bring down everything. All we need really is just the next term. So we don't have to write the other two terms. We can just focus on these two for now. But if you want to, you can write down the rest. Now let's divide 12x squared by x. So that's equal to positive 12x. Now let's multiply. 12x times x, that's 12x squared. And then if we multiply 12x by negative 2, that's equal to negative 24x. So now let's subtract. 12x squared minus 12x squared, which is equal to 0. And negative 6x minus negative 24x, which is the same as negative 6x plus 24x, that's positive 18x. And now let's bring down the 10. So we have 18x plus 10. So now let's divide. 18x divided by x is positive 18. And then multiply. 18 times x is 18x. And 18 times negative 2, that's negative 36. So now let's subtract. 18 minus 18 is 0. And 10 minus negative 36, we have two negative signs, that's the same as 10 plus 36. 10 plus 36 is 46. Now we can't divide 46 by x. So the remainder is 46. So how do we write the answer whenever we have a remainder? So it's going to be what you see here, plus the remainder, which is 46, divided by what you tried to divide it by, which is x minus 2. So therefore the final answer is 2x squared plus 12x plus 18 plus 46 divided by x minus 2. So all of that is equal to 2x cubed plus 8x squared minus 6x plus 10 divided by x minus 2. So this is the answer. Now let's move on to our next problem. Go ahead and divide 6x to the 4th minus 9x squared plus 18 divided by x minus 3. So take a minute, pause the video, and work on this problem. And once you have the solution, unpause it to see if you have the right answer. And be careful with this one. So let's put the x minus 3 on the outside, and let's put the numerator on the inside. Now we need to put it in standard order. It's 6x to the 4th. Now we can't forget about the 0x cubed. So plus 0x cubed, and then minus 9x squared, and don't forget about the 0x, and finally plus 18. So we're going to follow the same three steps. Divide, multiply, subtract. So let's divide 6x to the 4th by x. So that's equal to 6x cubed. Simply subtract the 4 by 1, and you'll get the exponent 3. Now let's multiply. 6x cubed times x, that's 6x to the 4th. And then we have 6x cubed times negative 3, which is negative 18x cubed. So at this point, we need to subtract. 6x to the 4th minus itself will be 0. Now 0x cubed minus negative 18x cubed, that's going to be just positive 18x cubed. And everything else, we could bring it down so we could work on it in the next step. We really don't have to bring down everything. All we need really is just the next term. So we don't have to write the other two terms. We can just focus on these two for now. But if you want to, you can write down the rest. Now let's divide 18x cubed by x. So that's going to be 18x squared. And now let's multiply. 18x squared times x, that's 18x cubed. And then if we multiply 18x squared by negative 3, that's negative 54x squared. So this is going to be 0. Negative 9 minus negative 54, that's negative 9 plus 54. And 54 minus 9 is basically 65. I take that back. It's not 65. That's something else. 54 minus 9, that's like 45. And you could check that with the calculator. So if you type in negative 9 plus 54, that's positive 45. Now let's bring down the 0x squared. Or I mean the 0x. You know what I mean. So now let's divide 45x squared by x. So that's going to give us just 45x. And if we multiply 45x by x minus 3, we're going to get 45x squared. And 45x times negative 3, that's negative 145x. So this is going to be 0. And 0 minus negative 145x is positive 145x. Now let's bring down the 18. So let's divide. 145x divided by x, that's positive 145. And 145 times x, that's going to be the same thing. And then 145 times negative 3, that's negative 435. So 18 minus negative 435, or 18 plus 435, that's 453. So that's the remainder. So this entire expression is equal to 6x cubed plus 18x squared plus 45x plus 145 plus 453 divided by x minus 3. So this is the final answer to the problem. So now you know how to divide polynomials using long division.\")"
            ]
          },
          "execution_count": 53,
          "metadata": {},
          "output_type": "execute_result"
        }
      ],
      "source": [
        "documents[0]"
      ]
    },
    {
      "cell_type": "markdown",
      "metadata": {
        "id": "WkahSQkz2DUY"
      },
      "source": [
        "in-memory vector store"
      ]
    },
    {
      "cell_type": "code",
      "execution_count": null,
      "metadata": {
        "id": "bMXmjGsA2HiJ"
      },
      "outputs": [],
      "source": [
        "\n",
        "import tiktoken"
      ]
    },
    {
      "cell_type": "code",
      "execution_count": null,
      "metadata": {
        "colab": {
          "base_uri": "https://localhost:8080/"
        },
        "id": "F02jqDhc4dNT",
        "outputId": "c334cade-248f-44a9-88f2-abe9c55f1c43"
      },
      "outputs": [
        {
          "name": "stdout",
          "output_type": "stream",
          "text": [
            "\u001b[?25l   \u001b[90m━━━━━━━━━━━━━━━━━━━━━━━━━━━━━━━━━━━━━━━━\u001b[0m \u001b[32m0.0/60.9 kB\u001b[0m \u001b[31m?\u001b[0m eta \u001b[36m-:--:--\u001b[0m\r\u001b[2K   \u001b[91m━━━━━━━━━━━━━━━━━━━━━━━━━━━━━━━━━\u001b[0m\u001b[91m╸\u001b[0m\u001b[90m━━━━━━\u001b[0m \u001b[32m51.2/60.9 kB\u001b[0m \u001b[31m3.4 MB/s\u001b[0m eta \u001b[36m0:00:01\u001b[0m\r\u001b[2K   \u001b[90m━━━━━━━━━━━━━━━━━━━━━━━━━━━━━━━━━━━━━━━━\u001b[0m \u001b[32m60.9/60.9 kB\u001b[0m \u001b[31m1.4 MB/s\u001b[0m eta \u001b[36m0:00:00\u001b[0m\n",
            "\u001b[?25h"
          ]
        }
      ],
      "source": [
        "\n",
        "%pip install -qU langchain-openai"
      ]
    },
    {
      "cell_type": "markdown",
      "metadata": {
        "id": "ao_9gF1Q2RkG"
      },
      "source": [
        "For vector embedding and have chat like features to talk to the model"
      ]
    },
    {
      "cell_type": "code",
      "execution_count": null,
      "metadata": {
        "id": "bS_V3y_l2T2-"
      },
      "outputs": [],
      "source": [
        "from langchain.chains import RetrievalQA\n",
        "\n",
        "from langchain.chat_models import ChatOpenAI\n",
        "from langchain_openai import OpenAIEmbeddings\n",
        "from langchain.vectorstores import DocArrayInMemorySearch #store and search in memory storage\n",
        "\n"
      ]
    },
    {
      "cell_type": "markdown",
      "metadata": {
        "id": "AbH7yAAHbbVl"
      },
      "source": [
        "Takes in the text and creates embeddings"
      ]
    },
    {
      "cell_type": "code",
      "execution_count": null,
      "metadata": {
        "id": "NIgEhpzi3S55"
      },
      "outputs": [],
      "source": [
        "\n",
        "db = DocArrayInMemorySearch.from_documents(documents,OpenAIEmbeddings())\n"
      ]
    },
    {
      "cell_type": "code",
      "execution_count": null,
      "metadata": {
        "id": "75HjRh6w5T7l"
      },
      "outputs": [],
      "source": [
        "from langchain_openai import ChatOpenAI"
      ]
    },
    {
      "cell_type": "code",
      "execution_count": null,
      "metadata": {
        "id": "3k1sRARw4k_c"
      },
      "outputs": [],
      "source": [
        "\n",
        "\n",
        "retriever=db.as_retriever()\n",
        "\n",
        "llm=ChatOpenAI(temperature=0.0,model_name='gpt-3.5-turbo')"
      ]
    },
    {
      "cell_type": "code",
      "execution_count": null,
      "metadata": {
        "id": "5lxlZ9_35Zce"
      },
      "outputs": [],
      "source": [
        "qa_stuff=RetrievalQA.from_chain_type(llm=llm,chain_type='stuff',retriever=retriever,verbose=True)\n",
        "\n"
      ]
    },
    {
      "cell_type": "code",
      "execution_count": null,
      "metadata": {
        "colab": {
          "base_uri": "https://localhost:8080/"
        },
        "id": "LF5sPikZ5z_x",
        "outputId": "3c3a0a80-1edd-4681-a637-4f7a591b418d"
      },
      "outputs": [
        {
          "name": "stderr",
          "output_type": "stream",
          "text": [
            "<ipython-input-68-54abf384ec7b>:4: LangChainDeprecationWarning: The method `Chain.run` was deprecated in langchain 0.1.0 and will be removed in 1.0. Use :meth:`~invoke` instead.\n",
            "  response=qa_stuff.run(query)\n"
          ]
        },
        {
          "name": "stdout",
          "output_type": "stream",
          "text": [
            "\n",
            "\n",
            "\u001b[1m> Entering new RetrievalQA chain...\u001b[0m\n",
            "\n",
            "\u001b[1m> Finished chain.\u001b[0m\n",
            "The video is about dividing polynomials using long division.\n"
          ]
        }
      ],
      "source": [
        "\n",
        "query='What is the video about?'\n",
        "\n",
        "response=qa_stuff.run(query)\n",
        "\n",
        "print(response)"
      ]
    },
    {
      "cell_type": "code",
      "execution_count": null,
      "metadata": {
        "colab": {
          "base_uri": "https://localhost:8080/"
        },
        "id": "wVLci1JA6wu2",
        "outputId": "44f51114-8a8a-4fbc-c234-787b20c26656"
      },
      "outputs": [
        {
          "name": "stdout",
          "output_type": "stream",
          "text": [
            "\n",
            "\n",
            "\u001b[1m> Entering new RetrievalQA chain...\u001b[0m\n",
            "\n",
            "\u001b[1m> Finished chain.\u001b[0m\n",
            "The speaker in the video is the instructor or teacher explaining how to divide polynomials using long division.\n"
          ]
        }
      ],
      "source": [
        "query='Who is talking in the video?'\n",
        "\n",
        "response1=qa_stuff.run(query)\n",
        "\n",
        "print(response1)"
      ]
    },
    {
      "cell_type": "code",
      "execution_count": null,
      "metadata": {
        "colab": {
          "base_uri": "https://localhost:8080/"
        },
        "id": "U2pDjx1I69U8",
        "outputId": "0f10f7cc-7d68-4e0c-bf41-20b95ab1ab0b"
      },
      "outputs": [
        {
          "name": "stdout",
          "output_type": "stream",
          "text": [
            "\n",
            "\n",
            "\u001b[1m> Entering new RetrievalQA chain...\u001b[0m\n",
            "\n",
            "\u001b[1m> Finished chain.\u001b[0m\n",
            "The main points of the video are:\n",
            "1. Dividing polynomials using long division involves dividing, multiplying, and subtracting.\n",
            "2. The denominator should be placed on the outside, and the numerator on the inside.\n",
            "3. The process involves dividing the leading terms, multiplying, subtracting, and bringing down the next term.\n",
            "4. If there is a remainder, it should be included in the final answer as a fraction with the divisor.\n"
          ]
        }
      ],
      "source": [
        "query='What are the main points of the video?'\n",
        "\n",
        "response2=qa_stuff.run(query)\n",
        "\n",
        "print(response2)"
      ]
    },
    {
      "cell_type": "code",
      "execution_count": null,
      "metadata": {
        "colab": {
          "base_uri": "https://localhost:8080/"
        },
        "id": "PsXiA9fC9WgX",
        "outputId": "c75ef0e2-5bbb-4f32-e7a2-182681945e40"
      },
      "outputs": [
        {
          "name": "stdout",
          "output_type": "stream",
          "text": [
            "\n",
            "\n",
            "\u001b[1m> Entering new RetrievalQA chain...\u001b[0m\n",
            "\n",
            "\u001b[1m> Finished chain.\u001b[0m\n",
            "Long division of polynomials is typically used when you need to divide a polynomial by another polynomial. It is a method used to find the quotient and remainder when dividing polynomials. It is especially useful when the division cannot be done easily by factoring or synthetic division.\n"
          ]
        }
      ],
      "source": [
        "query='When should you do long division?'\n",
        "response3=qa_stuff.run(query)\n",
        "print(response3)"
      ]
    },
    {
      "cell_type": "code",
      "execution_count": null,
      "metadata": {
        "colab": {
          "base_uri": "https://localhost:8080/"
        },
        "id": "rETBsDAM9rkz",
        "outputId": "5294337b-2cbd-46f2-877e-4e165ceb64a0"
      },
      "outputs": [
        {
          "name": "stdout",
          "output_type": "stream",
          "text": [
            "\n",
            "\n",
            "\u001b[1m> Entering new RetrievalQA chain...\u001b[0m\n",
            "\n",
            "\u001b[1m> Finished chain.\u001b[0m\n",
            "Yes, you can still perform long division when the denominator has a higher power than the numerator. The process is the same as shown in the examples provided earlier. Just make sure to include placeholders for any missing terms in the numerator to maintain the correct order of the polynomial.\n"
          ]
        }
      ],
      "source": [
        "query='Can you do long division when the denominator has higher power than the numerator?'\n",
        "response3=qa_stuff.run(query)\n",
        "print(response3)"
      ]
    },
    {
      "cell_type": "code",
      "execution_count": null,
      "metadata": {
        "colab": {
          "base_uri": "https://localhost:8080/"
        },
        "id": "hABZLRyv-TSv",
        "outputId": "f362aa36-bc36-41e0-aed1-48e9aede4b0b"
      },
      "outputs": [
        {
          "name": "stdout",
          "output_type": "stream",
          "text": [
            "\n",
            "\n",
            "\u001b[1m> Entering new RetrievalQA chain...\u001b[0m\n",
            "\n",
            "\u001b[1m> Finished chain.\u001b[0m\n",
            "To divide (x^2-1) by (x-1) using long division, you would follow the same steps as shown in the examples provided. Start by dividing x^2 by x, which gives you x. Then multiply x by (x-1) to get x^2-x. Subtract this from x^2-1 to get the remainder. However, since the dividend (x^2-1) is already in a simplified form, the result of dividing it by (x-1) is simply x+1.\n"
          ]
        }
      ],
      "source": [
        "query='Divide (x^2-1) by (x-1)'\n",
        "response4=qa_stuff.run(query)\n",
        "print(response4)"
      ]
    }
  ],
  "metadata": {
    "colab": {
      "provenance": []
    },
    "kernelspec": {
      "display_name": "Python 3",
      "name": "python3"
    },
    "language_info": {
      "name": "python"
    }
  },
  "nbformat": 4,
  "nbformat_minor": 0
}
